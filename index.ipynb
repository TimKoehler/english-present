{
 "cells": [
  {
   "cell_type": "markdown",
   "metadata": {
    "slideshow": {
     "slide_type": "slide"
    }
   },
   "source": [
    "# The Art of Artificial Intelligence"
   ]
  },
  {
   "cell_type": "markdown",
   "metadata": {
    "slideshow": {
     "slide_type": "fragment"
    }
   },
   "source": [
    "- Tim Köhler"
   ]
  },
  {
   "cell_type": "markdown",
   "metadata": {
    "slideshow": {
     "slide_type": "slide"
    }
   },
   "source": [
    "## Roadmap"
   ]
  },
  {
   "cell_type": "markdown",
   "metadata": {
    "slideshow": {
     "slide_type": "fragment"
    }
   },
   "source": [
    "- Brief introduction to AI\n",
    "- Applications of AI in arts\n",
    "- Conclusion"
   ]
  },
  {
   "cell_type": "markdown",
   "metadata": {
    "slideshow": {
     "slide_type": "slide"
    }
   },
   "source": [
    "## Introduction to AI"
   ]
  },
  {
   "cell_type": "markdown",
   "metadata": {
    "slideshow": {
     "slide_type": "subslide"
    }
   },
   "source": [
    "<center>\n",
    "    \n",
    "  <img src=\"./img/ai-diagram.png\" style=\"height: 50vh;\">\n",
    "    \n",
    "</center>"
   ]
  },
  {
   "cell_type": "markdown",
   "metadata": {
    "slideshow": {
     "slide_type": "subslide"
    }
   },
   "source": [
    "### Artificial Intelligence\n",
    "<blockquote>\n",
    "    &ldquo;Artificial intelligence (AI) is an area of computer science that emphasizes the creation of intelligent machines that work and react like humans.&rdquo;<br>\n",
    "    - Technopedia\n",
    "</blockquote>"
   ]
  },
  {
   "cell_type": "markdown",
   "metadata": {
    "slideshow": {
     "slide_type": "fragment"
    }
   },
   "source": [
    "### Machine Learning\n",
    "<blockquote>\n",
    "    &ldquo;A field of study that gives computers the ability to learn without being explicitly programmed.&rdquo;<br>\n",
    "    - Arthur L. Samuel 1995\n",
    "</blockquote>"
   ]
  },
  {
   "cell_type": "markdown",
   "metadata": {
    "slideshow": {
     "slide_type": "subslide"
    }
   },
   "source": [
    "### Applications"
   ]
  },
  {
   "cell_type": "markdown",
   "metadata": {
    "slideshow": {
     "slide_type": "subslide"
    }
   },
   "source": [
    "#### Autonomous driving\n",
    "\n",
    "<center>\n",
    "\n",
    "<img src=\"./img/auto_driving.png\" style=\"height:50vh;\">\n",
    "<figcaption style=\"font-size: 12px;\">Image Source: https://www.smartcitiesworld.net</figcaption>\n",
    "        \n",
    "</center>"
   ]
  },
  {
   "cell_type": "markdown",
   "metadata": {
    "slideshow": {
     "slide_type": "subslide"
    }
   },
   "source": [
    "#### Speech recognition / Smart Homes / Smart Assistants\n",
    "\n",
    "<center>\n",
    "\n",
    "<img src=\"./img/smart_home.jpg\" style=\"height:50vh;\">\n",
    "<figcaption style=\"font-size: 12px;\">Image Source: shutterstock.com/Andrey Suslov</figcaption>\n",
    "        \n",
    "</center>"
   ]
  },
  {
   "cell_type": "markdown",
   "metadata": {
    "slideshow": {
     "slide_type": "subslide"
    }
   },
   "source": [
    "#### Recommender systems\n",
    "\n",
    "<center>\n",
    "\n",
    "<img src=\"./img/recommender_system_simpsons.png\">\n",
    "        \n",
    "</center>"
   ]
  },
  {
   "cell_type": "markdown",
   "metadata": {
    "slideshow": {
     "slide_type": "slide"
    }
   },
   "source": [
    "## Applications of AI"
   ]
  },
  {
   "cell_type": "markdown",
   "metadata": {},
   "source": [
    "### Painting Generator"
   ]
  },
  {
   "cell_type": "markdown",
   "metadata": {
    "slideshow": {
     "slide_type": "subslide"
    }
   },
   "source": [
    "<center>\n",
    "    \n",
    "  <img src=\"./img/edmond_de_belamy.png\" style=\"height: 55vh;\">\n",
    "  <figcaption style=\"font-size: 12px;\">Edmond de Belamy. Image &copy; Obvious. In 2018 sold for 432.500\\$ at Christie's in New York.</figcaption>\n",
    "    \n",
    "</center>"
   ]
  },
  {
   "cell_type": "markdown",
   "metadata": {
    "slideshow": {
     "slide_type": "subslide"
    }
   },
   "source": [
    "<center>\n",
    "\n",
    "  <table style=\"border:none;\">\n",
    "    <tr style=\"border:none;\">\n",
    "      <td style=\"border:none; height:28vh;\">\n",
    "        <img src=\"./img/comte.png\">\n",
    "        <figcaption style=\"font-size: 12px;\">Le Comte De Belamy. Image &copy; Obvious</figcaption>\n",
    "      </td>\n",
    "      <td style=\"border:none; height:28vh;\">\n",
    "        <img src=\"./img/comtessa.png\">\n",
    "        <figcaption style=\"font-size: 12px;\">La Comtesse De Belamy. Image &copy; Obvious</figcaption>\n",
    "      </td>\n",
    "    </tr>\n",
    "    <tr style=\"border:none;\">\n",
    "      <td style=\"border:none; height:28vh;\">\n",
    "        <img src=\"./img/baron.png\">\n",
    "        <figcaption style=\"font-size: 12px;\">Le Baron De Belamy. Image &copy; Obvious</figcaption>\n",
    "      </td>\n",
    "      <td style=\"border:none; height:28vh;\">\n",
    "        <img src=\"./img/princess.png\">\n",
    "        <figcaption style=\"font-size: 12px;\">La Baronne De Belamy. Image &copy; Obvious</figcaption>\n",
    "      </td>\n",
    "    </tr>\n",
    "  </table>\n",
    "    \n",
    "</center>"
   ]
  },
  {
   "cell_type": "markdown",
   "metadata": {
    "slideshow": {
     "slide_type": "slide"
    }
   },
   "source": [
    "### Neural Style Transfer"
   ]
  },
  {
   "cell_type": "markdown",
   "metadata": {
    "slideshow": {
     "slide_type": "fragment"
    }
   },
   "source": [
    "<center>\n",
    "\n",
    "  <table style=\"border:none;\">\n",
    "    <tr style=\"border:none;\">\n",
    "      <td style=\"border:none;\">\n",
    "        <img src=\"./img/city.jpg\" style=\"height:auto; width:40vw;\">\n",
    "          <figcaption style=\"font-size: 12px;\">Image Source: Deepart.io</figcaption>\n",
    "      </td>\n",
    "      <td style=\"border:none;\">\n",
    "        <img src=\"./img/starry_sky.jpg\" style=\"height:auto; width:40vw;\">\n",
    "        <figcaption style=\"font-size: 12px;\">Image Source: Deepart.io</figcaption>\n",
    "      </td>\n",
    "    </tr>\n",
    "  </table>\n",
    "\n",
    "</center>"
   ]
  },
  {
   "cell_type": "markdown",
   "metadata": {
    "slideshow": {
     "slide_type": "subslide"
    }
   },
   "source": [
    "<center>\n",
    "    \n",
    "  <img src=\"./img/starry_city.jpg\" style=\"height: 50vh;\">\n",
    "  <figcaption style=\"font-size: 12px;\">Image Source: Deepart.io</figcaption>\n",
    "    \n",
    "</center>"
   ]
  },
  {
   "cell_type": "markdown",
   "metadata": {
    "slideshow": {
     "slide_type": "subslide"
    }
   },
   "source": [
    "<center>\n",
    "\n",
    "  <table style=\"border:none;\">\n",
    "    <tr style=\"border:none;\">\n",
    "      <td style=\"border:none; height:28vh;\">\n",
    "        <img src=\"./img/deep_abstract_woman.jpg\">\n",
    "        <figcaption style=\"font-size: 12px;\">Image Source: Deepart.io</figcaption>\n",
    "      </td>\n",
    "      <td style=\"border:none; height:28vh;\">\n",
    "        <img src=\"./img/deep_ghandi.jpg\">\n",
    "        <figcaption style=\"font-size: 12px;\">Image Source: Deepart.io</figcaption>\n",
    "      </td>\n",
    "    </tr>\n",
    "    <tr style=\"border:none;\">\n",
    "      <td style=\"border:none; height:28vh;\">\n",
    "        <img src=\"./img/deep_stone_human.jpg\">\n",
    "        <figcaption style=\"font-size: 12px;\">Image Source: Deepart.io</figcaption>\n",
    "      </td>\n",
    "      <td style=\"border:none; height:28vh;\">\n",
    "        <img src=\"./img/deep_woman.jpg\">\n",
    "        <figcaption style=\"font-size: 12px;\">Image Source: Deepart.io</figcaption>\n",
    "      </td>\n",
    "    </tr>\n",
    "  </table>\n",
    "    \n",
    "</center>"
   ]
  },
  {
   "cell_type": "markdown",
   "metadata": {
    "slideshow": {
     "slide_type": "slide"
    }
   },
   "source": [
    "## Yamaha piano dancer"
   ]
  },
  {
   "cell_type": "markdown",
   "metadata": {
    "slideshow": {
     "slide_type": "fragment"
    }
   },
   "source": [
    "<center>\n",
    "\n",
    "<img src=\"./img/piano_dancer.jpg\" style=\"height:50vh;\">\n",
    "<figcaption style=\"font-size: 12px;\">Image Source: Yamaha</figcaption>\n",
    "        \n",
    "</center>"
   ]
  },
  {
   "cell_type": "markdown",
   "metadata": {
    "slideshow": {
     "slide_type": "slide"
    }
   },
   "source": [
    "## Artwork installations"
   ]
  },
  {
   "cell_type": "markdown",
   "metadata": {
    "slideshow": {
     "slide_type": "fragment"
    }
   },
   "source": [
    "<center>\n",
    "\n",
    "  <img src=\"./img/spheres.jpg\" style=\"height:50vh;\">\n",
    "  <figcaption style=\"font-size: 12px;\">Spheres of influence by Wayne McGregor. Photography: Ravi Deepres and Alicia Clark</figcaption>\n",
    "\n",
    "</center>"
   ]
  },
  {
   "cell_type": "markdown",
   "metadata": {
    "slideshow": {
     "slide_type": "notes"
    }
   },
   "source": [
    "- flocks to viewers, responds to gestures and movements, flock together and spread wide, imitation of living creatures\n",
    "- exhibition in London"
   ]
  },
  {
   "cell_type": "markdown",
   "metadata": {
    "slideshow": {
     "slide_type": "subslide"
    }
   },
   "source": [
    "<center>\n",
    "\n",
    "  <img src=\"./img/intelligent_architecture.jpg\" style=\"height:50vh;\">\n",
    "  <figcaption style=\"font-size: 12px;\">Astrocyte by Philip Beesley. Image credit: Philip Beesley and Alex Willms/PBAI</figcaption>\n",
    "\n",
    "</center>"
   ]
  },
  {
   "cell_type": "markdown",
   "metadata": {
    "slideshow": {
     "slide_type": "notes"
    }
   },
   "source": [
    "- Responds to viewers with light, sound and vibration not unlike signals propagating along a nerve.\n",
    "- On exhibition in Toronto"
   ]
  },
  {
   "cell_type": "markdown",
   "metadata": {
    "slideshow": {
     "slide_type": "slide"
    }
   },
   "source": [
    "## Conclusion"
   ]
  },
  {
   "cell_type": "markdown",
   "metadata": {
    "slideshow": {
     "slide_type": "fragment"
    }
   },
   "source": [
    "- Won't replace the artist but is a great tool"
   ]
  },
  {
   "cell_type": "markdown",
   "metadata": {
    "slideshow": {
     "slide_type": "slide"
    }
   },
   "source": [
    "## Further reading"
   ]
  },
  {
   "cell_type": "markdown",
   "metadata": {
    "slideshow": {
     "slide_type": "fragment"
    }
   },
   "source": [
    "- Spheres of influence: https://www.wallpaper.com/art/wayne-mcgregor-random-international-roundhouse-london\n",
    "- 7 examples of how AI influences Art: https://venturebeat.com/2018/03/13/7-examples-of-how-ai-and-machine-learning-are-changing-the-arts/\n",
    "- living architecture: https://www.engadget.com/2017/12/26/astrocyte-living-architecture-the-big-picture/\n",
    "- AI dancer piano: https://www.engadget.com/2018/01/31/yamaha-ai-dancer-piano/\n",
    "- Piano Dancer Video: https://www.youtube.com/watch?v=21injmy1wsU\n",
    "- Deepart: https://www.deepart.io\n",
    "- Obvious: https://obvious-art.com/"
   ]
  }
 ],
 "metadata": {
  "kernelspec": {
   "display_name": "Python 3",
   "language": "python",
   "name": "python3"
  },
  "language_info": {
   "codemirror_mode": {
    "name": "ipython",
    "version": 3
   },
   "file_extension": ".py",
   "mimetype": "text/x-python",
   "name": "python",
   "nbconvert_exporter": "python",
   "pygments_lexer": "ipython3",
   "version": "3.6.7"
  }
 },
 "nbformat": 4,
 "nbformat_minor": 2
}
